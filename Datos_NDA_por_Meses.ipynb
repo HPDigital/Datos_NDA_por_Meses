{
 "cells": [
  {
   "cell_type": "code",
   "execution_count": 1,
   "metadata": {},
   "outputs": [],
   "source": [
    "import pandas as pd\n",
    "import datetime\n",
    "import numpy as np \n",
    "import seaborn as sns\n",
    "import sktime as sk\n"
   ]
  },
  {
   "cell_type": "code",
   "execution_count": 2,
   "metadata": {},
   "outputs": [],
   "source": [
    "path1 = \"C:\\\\Users\\\\HP\\\\Desktop\\\\TESIS\\\\DATOS_NDA_POR_MES_ TESIS\\\\Carpeta_NDA_Por_mes\\\\NDA_1_marzo.xlsx\"\n",
    "formato_columnas = {'PedidoId': object,'Cantidad': np.int32,  'PrecioUnitario': np.float64, 'MontoFinal': np.float64,'CodigoProducto': object,  'Producto': object,'Departamento': object,  'Grandes_Categorias': object, 'PedidoId': object,'Id_Cliente': object}\n",
    "df1=pd.read_excel(path1,dtype=formato_columnas, parse_dates=['Fecha'])\n",
    "df1['Fecha']= pd.to_datetime(df1['Fecha'])"
   ]
  },
  {
   "cell_type": "code",
   "execution_count": 3,
   "metadata": {},
   "outputs": [],
   "source": [
    "path2 = \"C:\\\\Users\\\\HP\\\\Desktop\\\\TESIS\\\\DATOS_NDA_POR_MES_ TESIS\\\\Carpeta_NDA_Por_mes\\\\NDA_2_abril.xlsx\"\n",
    "formato_columnas = {'PedidoId': object,'Cantidad': np.int32,  'PrecioUnitario': np.float64, 'MontoFinal': np.float64,'CodigoProducto': object,  'Producto': object,'Departamento': object,  'Grandes_Categorias': object, 'PedidoId': object,'Id_Cliente': object}\n",
    "df2=pd.read_excel(path2,dtype=formato_columnas, parse_dates=['Fecha'])\n",
    "df2['Fecha']= pd.to_datetime(df2['Fecha'])"
   ]
  },
  {
   "cell_type": "code",
   "execution_count": 4,
   "metadata": {},
   "outputs": [],
   "source": [
    "path3 = \"C:\\\\Users\\\\HP\\\\Desktop\\\\TESIS\\\\DATOS_NDA_POR_MES_ TESIS\\\\Carpeta_NDA_Por_mes\\\\NDA_3_mayo.xlsx\"\n",
    "formato_columnas = {'PedidoId': object,'Cantidad': np.int32,  'PrecioUnitario': np.float64, 'MontoFinal': np.float64,'CodigoProducto': object,  'Producto': object,'Departamento': object,  'Grandes_Categorias': object, 'PedidoId': object,'Id_Cliente': object}\n",
    "df3=pd.read_excel(path3,dtype=formato_columnas, parse_dates=['Fecha'])\n",
    "df3['Fecha']= pd.to_datetime(df3['Fecha'])"
   ]
  },
  {
   "cell_type": "code",
   "execution_count": 5,
   "metadata": {},
   "outputs": [],
   "source": [
    "path4 = \"C:\\\\Users\\\\HP\\\\Desktop\\\\TESIS\\\\DATOS_NDA_POR_MES_ TESIS\\\\Carpeta_NDA_Por_mes\\\\NDA_4_junio.xlsx\"\n",
    "formato_columnas = {'PedidoId': object,'Cantidad': np.int32,  'PrecioUnitario': np.float64, 'MontoFinal': np.float64,'CodigoProducto': object,  'Producto': object,'Departamento': object,  'Grandes_Categorias': object, 'PedidoId': object,'Id_Cliente': object}\n",
    "df4=pd.read_excel(path4,dtype=formato_columnas, parse_dates=['Fecha'])\n",
    "df4['Fecha']= pd.to_datetime(df4['Fecha'])"
   ]
  },
  {
   "cell_type": "code",
   "execution_count": 6,
   "metadata": {},
   "outputs": [],
   "source": [
    "path5 = \"C:\\\\Users\\\\HP\\\\Desktop\\\\TESIS\\\\DATOS_NDA_POR_MES_ TESIS\\\\Carpeta_NDA_Por_mes\\\\NDA_5_julio.xlsx\"\n",
    "formato_columnas = {'PedidoId': object,'Cantidad': np.int32,  'PrecioUnitario': np.float64, 'MontoFinal': np.float64,'CodigoProducto': object,  'Producto': object,'Departamento': object,  'Grandes_Categorias': object, 'PedidoId': object,'Id_Cliente': object}\n",
    "df5=pd.read_excel(path5,dtype=formato_columnas, parse_dates=['Fecha'])\n",
    "df5['Fecha']= pd.to_datetime(df5['Fecha'])"
   ]
  },
  {
   "cell_type": "code",
   "execution_count": 7,
   "metadata": {},
   "outputs": [],
   "source": [
    "path6 = \"C:\\\\Users\\\\HP\\\\Desktop\\\\TESIS\\\\DATOS_NDA_POR_MES_ TESIS\\\\Carpeta_NDA_Por_mes\\\\NDA_6_agosto.xlsx\"\n",
    "formato_columnas = {'PedidoId': object,'Cantidad': np.int32,  'PrecioUnitario': np.float64, 'MontoFinal': np.float64,'CodigoProducto': object,  'Producto': object,'Departamento': object,  'Grandes_Categorias': object, 'PedidoId': object,'Id_Cliente': object}\n",
    "df6=pd.read_excel(path6,dtype=formato_columnas, parse_dates=['Fecha'])\n",
    "df6['Fecha']= pd.to_datetime(df6['Fecha'])"
   ]
  },
  {
   "cell_type": "code",
   "execution_count": 8,
   "metadata": {},
   "outputs": [],
   "source": [
    "path7 = \"C:\\\\Users\\\\HP\\\\Desktop\\\\TESIS\\\\DATOS_NDA_POR_MES_ TESIS\\\\Carpeta_NDA_Por_mes\\\\NDA_7_septiembre.xlsx\"\n",
    "formato_columnas = {'PedidoId': object,'Cantidad': np.int32,  'PrecioUnitario': np.float64, 'MontoFinal': np.float64,'CodigoProducto': object,  'Producto': object,'Departamento': object,  'Grandes_Categorias': object, 'PedidoId': object,'Id_Cliente': object}\n",
    "df7=pd.read_excel(path7,dtype=formato_columnas, parse_dates=['Fecha'])\n",
    "df7['Fecha']= pd.to_datetime(df7['Fecha'])"
   ]
  },
  {
   "cell_type": "code",
   "execution_count": 9,
   "metadata": {},
   "outputs": [],
   "source": [
    "path8 = \"C:\\\\Users\\\\HP\\\\Desktop\\\\TESIS\\\\DATOS_NDA_POR_MES_ TESIS\\\\Carpeta_NDA_Por_mes\\\\NDA_8_octubre.xlsx\"\n",
    "formato_columnas = {'PedidoId': object,'Cantidad': np.int32,  'PrecioUnitario': np.float64, 'MontoFinal': np.float64,'CodigoProducto': object,  'Producto': object,'Departamento': object,  'Grandes_Categorias': object, 'PedidoId': object,'Id_Cliente': object}\n",
    "df8=pd.read_excel(path8,dtype=formato_columnas, parse_dates=['Fecha'])\n",
    "df8['Fecha']= pd.to_datetime(df8['Fecha'])"
   ]
  },
  {
   "cell_type": "code",
   "execution_count": 10,
   "metadata": {},
   "outputs": [],
   "source": [
    "path9 = \"C:\\\\Users\\\\HP\\\\Desktop\\\\TESIS\\\\DATOS_NDA_POR_MES_ TESIS\\\\Carpeta_NDA_Por_mes\\\\NDA_9_noviembre.xlsx\"\n",
    "formato_columnas = {'PedidoId': object,'Cantidad': np.int32,  'PrecioUnitario': np.float64, 'MontoFinal': np.float64,'CodigoProducto': object,  'Producto': object,'Departamento': object,  'Grandes_Categorias': object, 'PedidoId': object,'Id_Cliente': object}\n",
    "df9=pd.read_excel(path9,dtype=formato_columnas, parse_dates=['Fecha'])\n",
    "df9['Fecha']= pd.to_datetime(df9['Fecha'])"
   ]
  },
  {
   "cell_type": "code",
   "execution_count": 11,
   "metadata": {},
   "outputs": [],
   "source": [
    "frames = [df1, df2, df3, df4, df5, df6, df7, df8, df9]\n",
    "df=pd.concat(frames, axis=0, ignore_index=True)"
   ]
  },
  {
   "cell_type": "code",
   "execution_count": 12,
   "metadata": {},
   "outputs": [
    {
     "data": {
      "text/plain": [
       "PedidoId                      object\n",
       "Cantidad                       int32\n",
       "PrecioUnitario               float64\n",
       "MontoFinal                   float64\n",
       "CodigoProducto                object\n",
       "Producto                      object\n",
       "Fecha                 datetime64[ns]\n",
       "Departamento                  object\n",
       "Grandes_Categorias            object\n",
       "Id_Cliente                    object\n",
       "dtype: object"
      ]
     },
     "execution_count": 12,
     "metadata": {},
     "output_type": "execute_result"
    }
   ],
   "source": [
    "df.dtypes"
   ]
  },
  {
   "cell_type": "code",
   "execution_count": 13,
   "metadata": {},
   "outputs": [
    {
     "data": {
      "text/html": [
       "<div>\n",
       "<style scoped>\n",
       "    .dataframe tbody tr th:only-of-type {\n",
       "        vertical-align: middle;\n",
       "    }\n",
       "\n",
       "    .dataframe tbody tr th {\n",
       "        vertical-align: top;\n",
       "    }\n",
       "\n",
       "    .dataframe thead th {\n",
       "        text-align: right;\n",
       "    }\n",
       "</style>\n",
       "<table border=\"1\" class=\"dataframe\">\n",
       "  <thead>\n",
       "    <tr style=\"text-align: right;\">\n",
       "      <th></th>\n",
       "      <th>Cantidad</th>\n",
       "      <th>PrecioUnitario</th>\n",
       "      <th>MontoFinal</th>\n",
       "    </tr>\n",
       "  </thead>\n",
       "  <tbody>\n",
       "    <tr>\n",
       "      <th>count</th>\n",
       "      <td>795994.000000</td>\n",
       "      <td>795994.000000</td>\n",
       "      <td>795994.000000</td>\n",
       "    </tr>\n",
       "    <tr>\n",
       "      <th>mean</th>\n",
       "      <td>1.533885</td>\n",
       "      <td>21.023147</td>\n",
       "      <td>29.361581</td>\n",
       "    </tr>\n",
       "    <tr>\n",
       "      <th>std</th>\n",
       "      <td>3.360339</td>\n",
       "      <td>15.568962</td>\n",
       "      <td>57.157696</td>\n",
       "    </tr>\n",
       "    <tr>\n",
       "      <th>min</th>\n",
       "      <td>1.000000</td>\n",
       "      <td>2.000000</td>\n",
       "      <td>2.000000</td>\n",
       "    </tr>\n",
       "    <tr>\n",
       "      <th>25%</th>\n",
       "      <td>1.000000</td>\n",
       "      <td>12.000000</td>\n",
       "      <td>14.000000</td>\n",
       "    </tr>\n",
       "    <tr>\n",
       "      <th>50%</th>\n",
       "      <td>1.000000</td>\n",
       "      <td>16.000000</td>\n",
       "      <td>19.000000</td>\n",
       "    </tr>\n",
       "    <tr>\n",
       "      <th>75%</th>\n",
       "      <td>2.000000</td>\n",
       "      <td>27.000000</td>\n",
       "      <td>34.000000</td>\n",
       "    </tr>\n",
       "    <tr>\n",
       "      <th>max</th>\n",
       "      <td>600.000000</td>\n",
       "      <td>135.000000</td>\n",
       "      <td>9000.000000</td>\n",
       "    </tr>\n",
       "  </tbody>\n",
       "</table>\n",
       "</div>"
      ],
      "text/plain": [
       "            Cantidad  PrecioUnitario     MontoFinal\n",
       "count  795994.000000   795994.000000  795994.000000\n",
       "mean        1.533885       21.023147      29.361581\n",
       "std         3.360339       15.568962      57.157696\n",
       "min         1.000000        2.000000       2.000000\n",
       "25%         1.000000       12.000000      14.000000\n",
       "50%         1.000000       16.000000      19.000000\n",
       "75%         2.000000       27.000000      34.000000\n",
       "max       600.000000      135.000000    9000.000000"
      ]
     },
     "execution_count": 13,
     "metadata": {},
     "output_type": "execute_result"
    }
   ],
   "source": [
    "df.describe()"
   ]
  },
  {
   "cell_type": "code",
   "execution_count": 14,
   "metadata": {},
   "outputs": [
    {
     "data": {
      "text/html": [
       "<div>\n",
       "<style scoped>\n",
       "    .dataframe tbody tr th:only-of-type {\n",
       "        vertical-align: middle;\n",
       "    }\n",
       "\n",
       "    .dataframe tbody tr th {\n",
       "        vertical-align: top;\n",
       "    }\n",
       "\n",
       "    .dataframe thead th {\n",
       "        text-align: right;\n",
       "    }\n",
       "</style>\n",
       "<table border=\"1\" class=\"dataframe\">\n",
       "  <thead>\n",
       "    <tr style=\"text-align: right;\">\n",
       "      <th></th>\n",
       "      <th>PedidoId</th>\n",
       "      <th>Cantidad</th>\n",
       "      <th>PrecioUnitario</th>\n",
       "      <th>MontoFinal</th>\n",
       "      <th>CodigoProducto</th>\n",
       "      <th>Producto</th>\n",
       "      <th>Fecha</th>\n",
       "      <th>Departamento</th>\n",
       "      <th>Grandes_Categorias</th>\n",
       "      <th>Id_Cliente</th>\n",
       "    </tr>\n",
       "  </thead>\n",
       "  <tbody>\n",
       "    <tr>\n",
       "      <th>0</th>\n",
       "      <td>100</td>\n",
       "      <td>1</td>\n",
       "      <td>34.0</td>\n",
       "      <td>34.0</td>\n",
       "      <td>84172297</td>\n",
       "      <td>Acondicionador Dove Control Caida 400Ml</td>\n",
       "      <td>2020-03-28</td>\n",
       "      <td>Cochabamba</td>\n",
       "      <td>Personal Care</td>\n",
       "      <td>ID71494844</td>\n",
       "    </tr>\n",
       "    <tr>\n",
       "      <th>1</th>\n",
       "      <td>110</td>\n",
       "      <td>1</td>\n",
       "      <td>34.0</td>\n",
       "      <td>34.0</td>\n",
       "      <td>84172297</td>\n",
       "      <td>Acondicionador Dove Control Caida 400Ml</td>\n",
       "      <td>2020-03-28</td>\n",
       "      <td>Cochabamba</td>\n",
       "      <td>Personal Care</td>\n",
       "      <td>ID70757310</td>\n",
       "    </tr>\n",
       "    <tr>\n",
       "      <th>2</th>\n",
       "      <td>148</td>\n",
       "      <td>1</td>\n",
       "      <td>34.0</td>\n",
       "      <td>34.0</td>\n",
       "      <td>84172297</td>\n",
       "      <td>Acondicionador Dove Control Caida 400Ml</td>\n",
       "      <td>2020-03-29</td>\n",
       "      <td>La Paz</td>\n",
       "      <td>Personal Care</td>\n",
       "      <td>ID77233662</td>\n",
       "    </tr>\n",
       "    <tr>\n",
       "      <th>3</th>\n",
       "      <td>182</td>\n",
       "      <td>2</td>\n",
       "      <td>34.0</td>\n",
       "      <td>68.0</td>\n",
       "      <td>84172297</td>\n",
       "      <td>Acondicionador Dove Control Caida 400Ml</td>\n",
       "      <td>2020-03-29</td>\n",
       "      <td>Santa Cruz</td>\n",
       "      <td>Personal Care</td>\n",
       "      <td>ID67899785</td>\n",
       "    </tr>\n",
       "    <tr>\n",
       "      <th>4</th>\n",
       "      <td>216</td>\n",
       "      <td>1</td>\n",
       "      <td>34.0</td>\n",
       "      <td>34.0</td>\n",
       "      <td>84172297</td>\n",
       "      <td>Acondicionador Dove Control Caida 400Ml</td>\n",
       "      <td>2020-03-29</td>\n",
       "      <td>La Paz</td>\n",
       "      <td>Personal Care</td>\n",
       "      <td>ID76706668</td>\n",
       "    </tr>\n",
       "  </tbody>\n",
       "</table>\n",
       "</div>"
      ],
      "text/plain": [
       "  PedidoId  Cantidad  PrecioUnitario  MontoFinal CodigoProducto  \\\n",
       "0      100         1            34.0        34.0       84172297   \n",
       "1      110         1            34.0        34.0       84172297   \n",
       "2      148         1            34.0        34.0       84172297   \n",
       "3      182         2            34.0        68.0       84172297   \n",
       "4      216         1            34.0        34.0       84172297   \n",
       "\n",
       "                                  Producto      Fecha Departamento  \\\n",
       "0  Acondicionador Dove Control Caida 400Ml 2020-03-28   Cochabamba   \n",
       "1  Acondicionador Dove Control Caida 400Ml 2020-03-28   Cochabamba   \n",
       "2  Acondicionador Dove Control Caida 400Ml 2020-03-29       La Paz   \n",
       "3  Acondicionador Dove Control Caida 400Ml 2020-03-29   Santa Cruz   \n",
       "4  Acondicionador Dove Control Caida 400Ml 2020-03-29       La Paz   \n",
       "\n",
       "  Grandes_Categorias  Id_Cliente  \n",
       "0      Personal Care  ID71494844  \n",
       "1      Personal Care  ID70757310  \n",
       "2      Personal Care  ID77233662  \n",
       "3      Personal Care  ID67899785  \n",
       "4      Personal Care  ID76706668  "
      ]
     },
     "execution_count": 14,
     "metadata": {},
     "output_type": "execute_result"
    }
   ],
   "source": [
    "df.head()"
   ]
  },
  {
   "cell_type": "code",
   "execution_count": 15,
   "metadata": {},
   "outputs": [],
   "source": [
    "dfpronostico=df[['Fecha','MontoFinal']]\n"
   ]
  },
  {
   "cell_type": "code",
   "execution_count": 16,
   "metadata": {},
   "outputs": [],
   "source": [
    "#dfpronostico=dfpronostico.set_index('Fecha')\n"
   ]
  },
  {
   "cell_type": "code",
   "execution_count": 17,
   "metadata": {},
   "outputs": [],
   "source": [
    "#dfpronostico=dfpronostico.resample('d').mean()\n"
   ]
  },
  {
   "cell_type": "code",
   "execution_count": 18,
   "metadata": {},
   "outputs": [
    {
     "data": {
      "text/html": [
       "<div>\n",
       "<style scoped>\n",
       "    .dataframe tbody tr th:only-of-type {\n",
       "        vertical-align: middle;\n",
       "    }\n",
       "\n",
       "    .dataframe tbody tr th {\n",
       "        vertical-align: top;\n",
       "    }\n",
       "\n",
       "    .dataframe thead th {\n",
       "        text-align: right;\n",
       "    }\n",
       "</style>\n",
       "<table border=\"1\" class=\"dataframe\">\n",
       "  <thead>\n",
       "    <tr style=\"text-align: right;\">\n",
       "      <th></th>\n",
       "      <th>Fecha</th>\n",
       "      <th>MontoFinal</th>\n",
       "    </tr>\n",
       "  </thead>\n",
       "  <tbody>\n",
       "    <tr>\n",
       "      <th>0</th>\n",
       "      <td>2020-03-28</td>\n",
       "      <td>34.0</td>\n",
       "    </tr>\n",
       "    <tr>\n",
       "      <th>1</th>\n",
       "      <td>2020-03-28</td>\n",
       "      <td>34.0</td>\n",
       "    </tr>\n",
       "    <tr>\n",
       "      <th>2</th>\n",
       "      <td>2020-03-29</td>\n",
       "      <td>34.0</td>\n",
       "    </tr>\n",
       "    <tr>\n",
       "      <th>3</th>\n",
       "      <td>2020-03-29</td>\n",
       "      <td>68.0</td>\n",
       "    </tr>\n",
       "    <tr>\n",
       "      <th>4</th>\n",
       "      <td>2020-03-29</td>\n",
       "      <td>34.0</td>\n",
       "    </tr>\n",
       "    <tr>\n",
       "      <th>...</th>\n",
       "      <td>...</td>\n",
       "      <td>...</td>\n",
       "    </tr>\n",
       "    <tr>\n",
       "      <th>795989</th>\n",
       "      <td>2020-11-12</td>\n",
       "      <td>130.0</td>\n",
       "    </tr>\n",
       "    <tr>\n",
       "      <th>795990</th>\n",
       "      <td>2020-11-12</td>\n",
       "      <td>130.0</td>\n",
       "    </tr>\n",
       "    <tr>\n",
       "      <th>795991</th>\n",
       "      <td>2020-11-12</td>\n",
       "      <td>130.0</td>\n",
       "    </tr>\n",
       "    <tr>\n",
       "      <th>795992</th>\n",
       "      <td>2020-11-12</td>\n",
       "      <td>130.0</td>\n",
       "    </tr>\n",
       "    <tr>\n",
       "      <th>795993</th>\n",
       "      <td>2020-11-12</td>\n",
       "      <td>130.0</td>\n",
       "    </tr>\n",
       "  </tbody>\n",
       "</table>\n",
       "<p>795994 rows × 2 columns</p>\n",
       "</div>"
      ],
      "text/plain": [
       "            Fecha  MontoFinal\n",
       "0      2020-03-28        34.0\n",
       "1      2020-03-28        34.0\n",
       "2      2020-03-29        34.0\n",
       "3      2020-03-29        68.0\n",
       "4      2020-03-29        34.0\n",
       "...           ...         ...\n",
       "795989 2020-11-12       130.0\n",
       "795990 2020-11-12       130.0\n",
       "795991 2020-11-12       130.0\n",
       "795992 2020-11-12       130.0\n",
       "795993 2020-11-12       130.0\n",
       "\n",
       "[795994 rows x 2 columns]"
      ]
     },
     "execution_count": 18,
     "metadata": {},
     "output_type": "execute_result"
    }
   ],
   "source": [
    "dfpronostico"
   ]
  },
  {
   "cell_type": "code",
   "execution_count": 19,
   "metadata": {},
   "outputs": [],
   "source": [
    "#sns.relplot(data=dfpronostico, kind=\"line\", height=5, aspect=3)"
   ]
  },
  {
   "cell_type": "code",
   "execution_count": 20,
   "metadata": {},
   "outputs": [],
   "source": [
    "dfpronostico= dfpronostico.rename(columns={'Fecha':'ds', 'MontoFinal':'y'})"
   ]
  },
  {
   "cell_type": "code",
   "execution_count": 21,
   "metadata": {},
   "outputs": [
    {
     "data": {
      "text/html": [
       "<div>\n",
       "<style scoped>\n",
       "    .dataframe tbody tr th:only-of-type {\n",
       "        vertical-align: middle;\n",
       "    }\n",
       "\n",
       "    .dataframe tbody tr th {\n",
       "        vertical-align: top;\n",
       "    }\n",
       "\n",
       "    .dataframe thead th {\n",
       "        text-align: right;\n",
       "    }\n",
       "</style>\n",
       "<table border=\"1\" class=\"dataframe\">\n",
       "  <thead>\n",
       "    <tr style=\"text-align: right;\">\n",
       "      <th></th>\n",
       "      <th>ds</th>\n",
       "      <th>y</th>\n",
       "    </tr>\n",
       "  </thead>\n",
       "  <tbody>\n",
       "    <tr>\n",
       "      <th>0</th>\n",
       "      <td>2020-03-28</td>\n",
       "      <td>34.0</td>\n",
       "    </tr>\n",
       "    <tr>\n",
       "      <th>1</th>\n",
       "      <td>2020-03-28</td>\n",
       "      <td>34.0</td>\n",
       "    </tr>\n",
       "    <tr>\n",
       "      <th>2</th>\n",
       "      <td>2020-03-29</td>\n",
       "      <td>34.0</td>\n",
       "    </tr>\n",
       "    <tr>\n",
       "      <th>3</th>\n",
       "      <td>2020-03-29</td>\n",
       "      <td>68.0</td>\n",
       "    </tr>\n",
       "    <tr>\n",
       "      <th>4</th>\n",
       "      <td>2020-03-29</td>\n",
       "      <td>34.0</td>\n",
       "    </tr>\n",
       "    <tr>\n",
       "      <th>...</th>\n",
       "      <td>...</td>\n",
       "      <td>...</td>\n",
       "    </tr>\n",
       "    <tr>\n",
       "      <th>795989</th>\n",
       "      <td>2020-11-12</td>\n",
       "      <td>130.0</td>\n",
       "    </tr>\n",
       "    <tr>\n",
       "      <th>795990</th>\n",
       "      <td>2020-11-12</td>\n",
       "      <td>130.0</td>\n",
       "    </tr>\n",
       "    <tr>\n",
       "      <th>795991</th>\n",
       "      <td>2020-11-12</td>\n",
       "      <td>130.0</td>\n",
       "    </tr>\n",
       "    <tr>\n",
       "      <th>795992</th>\n",
       "      <td>2020-11-12</td>\n",
       "      <td>130.0</td>\n",
       "    </tr>\n",
       "    <tr>\n",
       "      <th>795993</th>\n",
       "      <td>2020-11-12</td>\n",
       "      <td>130.0</td>\n",
       "    </tr>\n",
       "  </tbody>\n",
       "</table>\n",
       "<p>795994 rows × 2 columns</p>\n",
       "</div>"
      ],
      "text/plain": [
       "               ds      y\n",
       "0      2020-03-28   34.0\n",
       "1      2020-03-28   34.0\n",
       "2      2020-03-29   34.0\n",
       "3      2020-03-29   68.0\n",
       "4      2020-03-29   34.0\n",
       "...           ...    ...\n",
       "795989 2020-11-12  130.0\n",
       "795990 2020-11-12  130.0\n",
       "795991 2020-11-12  130.0\n",
       "795992 2020-11-12  130.0\n",
       "795993 2020-11-12  130.0\n",
       "\n",
       "[795994 rows x 2 columns]"
      ]
     },
     "execution_count": 21,
     "metadata": {},
     "output_type": "execute_result"
    }
   ],
   "source": [
    "dfpronostico"
   ]
  },
  {
   "cell_type": "code",
   "execution_count": 22,
   "metadata": {},
   "outputs": [],
   "source": [
    "import fbprophet\n"
   ]
  },
  {
   "cell_type": "code",
   "execution_count": 23,
   "metadata": {},
   "outputs": [],
   "source": [
    "df_prophet=fbprophet.Prophet(changepoint_prior_scale=0.15)"
   ]
  },
  {
   "cell_type": "code",
   "execution_count": 24,
   "metadata": {},
   "outputs": [
    {
     "name": "stderr",
     "output_type": "stream",
     "text": [
      "INFO:numexpr.utils:NumExpr defaulting to 8 threads.\n",
      "INFO:fbprophet:Disabling yearly seasonality. Run prophet with yearly_seasonality=True to override this.\n",
      "INFO:fbprophet:Disabling daily seasonality. Run prophet with daily_seasonality=True to override this.\n"
     ]
    },
    {
     "data": {
      "text/plain": [
       "<fbprophet.forecaster.Prophet at 0x2069ddd51f0>"
      ]
     },
     "execution_count": 24,
     "metadata": {},
     "output_type": "execute_result"
    }
   ],
   "source": [
    "df_prophet.fit(dfpronostico)"
   ]
  },
  {
   "cell_type": "code",
   "execution_count": 25,
   "metadata": {},
   "outputs": [],
   "source": [
    "df2_pronostico=df_prophet.make_future_dataframe(periods=30*1 , freq=\"D\")"
   ]
  },
  {
   "cell_type": "code",
   "execution_count": 26,
   "metadata": {},
   "outputs": [],
   "source": [
    "df2_pronostico=df_prophet.predict(df2_pronostico)"
   ]
  },
  {
   "cell_type": "code",
   "execution_count": 27,
   "metadata": {},
   "outputs": [
    {
     "data": {
      "image/png": "[encoded data removed]",
      "text/plain": [
       "<Figure size 720x432 with 1 Axes>"
      ]
     },
     "execution_count": 27,
     "metadata": {},
     "output_type": "execute_result"
    },
    {
     "data": {
      "image/png": "[encoded data removed]",
      "text/plain": [
       "<Figure size 720x432 with 1 Axes>"
      ]
     },
     "metadata": {},
     "output_type": "display_data"
    }
   ],
   "source": [
    "df_prophet.plot(df2_pronostico, xlabel = 'Fecha', ylabel= 'MontoFinal')"
   ]
  },
  {
   "cell_type": "code",
   "execution_count": 28,
   "metadata": {},
   "outputs": [
    {
     "data": {
      "text/plain": [
       "<seaborn.axisgrid.FacetGrid at 0x206a2059940>"
      ]
     },
     "execution_count": 28,
     "metadata": {},
     "output_type": "execute_result"
    },
    {
     "data": {
      "image/png": "[encoded data removed]",
      "text/plain": [
       "<Figure size 1252x360 with 1 Axes>"
      ]
     },
     "metadata": {
      "needs_background": "light"
     },
     "output_type": "display_data"
    }
   ],
   "source": [
    "sns.relplot(data=df2_pronostico, kind=\"line\", height=5, aspect=3)"
   ]
  },
  {
   "cell_type": "code",
   "execution_count": 29,
   "metadata": {},
   "outputs": [
    {
     "data": {
      "text/html": [
       "<div>\n",
       "<style scoped>\n",
       "    .dataframe tbody tr th:only-of-type {\n",
       "        vertical-align: middle;\n",
       "    }\n",
       "\n",
       "    .dataframe tbody tr th {\n",
       "        vertical-align: top;\n",
       "    }\n",
       "\n",
       "    .dataframe thead th {\n",
       "        text-align: right;\n",
       "    }\n",
       "</style>\n",
       "<table border=\"1\" class=\"dataframe\">\n",
       "  <thead>\n",
       "    <tr style=\"text-align: right;\">\n",
       "      <th></th>\n",
       "      <th>ds</th>\n",
       "      <th>trend</th>\n",
       "      <th>yhat_lower</th>\n",
       "      <th>yhat_upper</th>\n",
       "      <th>trend_lower</th>\n",
       "      <th>trend_upper</th>\n",
       "      <th>additive_terms</th>\n",
       "      <th>additive_terms_lower</th>\n",
       "      <th>additive_terms_upper</th>\n",
       "      <th>weekly</th>\n",
       "      <th>weekly_lower</th>\n",
       "      <th>weekly_upper</th>\n",
       "      <th>multiplicative_terms</th>\n",
       "      <th>multiplicative_terms_lower</th>\n",
       "      <th>multiplicative_terms_upper</th>\n",
       "      <th>yhat</th>\n",
       "    </tr>\n",
       "  </thead>\n",
       "  <tbody>\n",
       "    <tr>\n",
       "      <th>0</th>\n",
       "      <td>2020-03-28</td>\n",
       "      <td>24.404899</td>\n",
       "      <td>-56.352511</td>\n",
       "      <td>95.004859</td>\n",
       "      <td>24.404899</td>\n",
       "      <td>24.404899</td>\n",
       "      <td>-0.162447</td>\n",
       "      <td>-0.162447</td>\n",
       "      <td>-0.162447</td>\n",
       "      <td>-0.162447</td>\n",
       "      <td>-0.162447</td>\n",
       "      <td>-0.162447</td>\n",
       "      <td>0.0</td>\n",
       "      <td>0.0</td>\n",
       "      <td>0.0</td>\n",
       "      <td>24.242452</td>\n",
       "    </tr>\n",
       "    <tr>\n",
       "      <th>1</th>\n",
       "      <td>2020-03-29</td>\n",
       "      <td>24.471811</td>\n",
       "      <td>-48.954203</td>\n",
       "      <td>100.937018</td>\n",
       "      <td>24.471811</td>\n",
       "      <td>24.471811</td>\n",
       "      <td>-0.092821</td>\n",
       "      <td>-0.092821</td>\n",
       "      <td>-0.092821</td>\n",
       "      <td>-0.092821</td>\n",
       "      <td>-0.092821</td>\n",
       "      <td>-0.092821</td>\n",
       "      <td>0.0</td>\n",
       "      <td>0.0</td>\n",
       "      <td>0.0</td>\n",
       "      <td>24.378989</td>\n",
       "    </tr>\n",
       "    <tr>\n",
       "      <th>2</th>\n",
       "      <td>2020-03-30</td>\n",
       "      <td>24.538722</td>\n",
       "      <td>-50.000289</td>\n",
       "      <td>99.469348</td>\n",
       "      <td>24.538722</td>\n",
       "      <td>24.538722</td>\n",
       "      <td>-0.074264</td>\n",
       "      <td>-0.074264</td>\n",
       "      <td>-0.074264</td>\n",
       "      <td>-0.074264</td>\n",
       "      <td>-0.074264</td>\n",
       "      <td>-0.074264</td>\n",
       "      <td>0.0</td>\n",
       "      <td>0.0</td>\n",
       "      <td>0.0</td>\n",
       "      <td>24.464458</td>\n",
       "    </tr>\n",
       "    <tr>\n",
       "      <th>3</th>\n",
       "      <td>2020-03-31</td>\n",
       "      <td>24.605634</td>\n",
       "      <td>-51.743560</td>\n",
       "      <td>100.721485</td>\n",
       "      <td>24.605634</td>\n",
       "      <td>24.605634</td>\n",
       "      <td>0.347240</td>\n",
       "      <td>0.347240</td>\n",
       "      <td>0.347240</td>\n",
       "      <td>0.347240</td>\n",
       "      <td>0.347240</td>\n",
       "      <td>0.347240</td>\n",
       "      <td>0.0</td>\n",
       "      <td>0.0</td>\n",
       "      <td>0.0</td>\n",
       "      <td>24.952874</td>\n",
       "    </tr>\n",
       "    <tr>\n",
       "      <th>4</th>\n",
       "      <td>2020-04-01</td>\n",
       "      <td>24.672546</td>\n",
       "      <td>-46.946658</td>\n",
       "      <td>95.791669</td>\n",
       "      <td>24.672546</td>\n",
       "      <td>24.672546</td>\n",
       "      <td>-0.442683</td>\n",
       "      <td>-0.442683</td>\n",
       "      <td>-0.442683</td>\n",
       "      <td>-0.442683</td>\n",
       "      <td>-0.442683</td>\n",
       "      <td>-0.442683</td>\n",
       "      <td>0.0</td>\n",
       "      <td>0.0</td>\n",
       "      <td>0.0</td>\n",
       "      <td>24.229863</td>\n",
       "    </tr>\n",
       "    <tr>\n",
       "      <th>...</th>\n",
       "      <td>...</td>\n",
       "      <td>...</td>\n",
       "      <td>...</td>\n",
       "      <td>...</td>\n",
       "      <td>...</td>\n",
       "      <td>...</td>\n",
       "      <td>...</td>\n",
       "      <td>...</td>\n",
       "      <td>...</td>\n",
       "      <td>...</td>\n",
       "      <td>...</td>\n",
       "      <td>...</td>\n",
       "      <td>...</td>\n",
       "      <td>...</td>\n",
       "      <td>...</td>\n",
       "      <td>...</td>\n",
       "    </tr>\n",
       "    <tr>\n",
       "      <th>269</th>\n",
       "      <td>2020-12-22</td>\n",
       "      <td>37.125752</td>\n",
       "      <td>-38.007855</td>\n",
       "      <td>106.556304</td>\n",
       "      <td>30.119334</td>\n",
       "      <td>44.143215</td>\n",
       "      <td>0.347240</td>\n",
       "      <td>0.347240</td>\n",
       "      <td>0.347240</td>\n",
       "      <td>0.347240</td>\n",
       "      <td>0.347240</td>\n",
       "      <td>0.347240</td>\n",
       "      <td>0.0</td>\n",
       "      <td>0.0</td>\n",
       "      <td>0.0</td>\n",
       "      <td>37.472992</td>\n",
       "    </tr>\n",
       "    <tr>\n",
       "      <th>270</th>\n",
       "      <td>2020-12-23</td>\n",
       "      <td>37.141577</td>\n",
       "      <td>-34.892943</td>\n",
       "      <td>115.535516</td>\n",
       "      <td>29.692426</td>\n",
       "      <td>44.475405</td>\n",
       "      <td>-0.442683</td>\n",
       "      <td>-0.442683</td>\n",
       "      <td>-0.442683</td>\n",
       "      <td>-0.442683</td>\n",
       "      <td>-0.442683</td>\n",
       "      <td>-0.442683</td>\n",
       "      <td>0.0</td>\n",
       "      <td>0.0</td>\n",
       "      <td>0.0</td>\n",
       "      <td>36.698894</td>\n",
       "    </tr>\n",
       "    <tr>\n",
       "      <th>271</th>\n",
       "      <td>2020-12-24</td>\n",
       "      <td>37.157403</td>\n",
       "      <td>-36.816712</td>\n",
       "      <td>110.224120</td>\n",
       "      <td>29.270103</td>\n",
       "      <td>44.966011</td>\n",
       "      <td>0.704739</td>\n",
       "      <td>0.704739</td>\n",
       "      <td>0.704739</td>\n",
       "      <td>0.704739</td>\n",
       "      <td>0.704739</td>\n",
       "      <td>0.704739</td>\n",
       "      <td>0.0</td>\n",
       "      <td>0.0</td>\n",
       "      <td>0.0</td>\n",
       "      <td>37.862142</td>\n",
       "    </tr>\n",
       "    <tr>\n",
       "      <th>272</th>\n",
       "      <td>2020-12-25</td>\n",
       "      <td>37.173228</td>\n",
       "      <td>-32.874898</td>\n",
       "      <td>110.435840</td>\n",
       "      <td>28.939986</td>\n",
       "      <td>45.555873</td>\n",
       "      <td>-0.279763</td>\n",
       "      <td>-0.279763</td>\n",
       "      <td>-0.279763</td>\n",
       "      <td>-0.279763</td>\n",
       "      <td>-0.279763</td>\n",
       "      <td>-0.279763</td>\n",
       "      <td>0.0</td>\n",
       "      <td>0.0</td>\n",
       "      <td>0.0</td>\n",
       "      <td>36.893465</td>\n",
       "    </tr>\n",
       "    <tr>\n",
       "      <th>273</th>\n",
       "      <td>2020-12-26</td>\n",
       "      <td>37.189054</td>\n",
       "      <td>-41.447557</td>\n",
       "      <td>108.788703</td>\n",
       "      <td>28.459789</td>\n",
       "      <td>46.064700</td>\n",
       "      <td>-0.162447</td>\n",
       "      <td>-0.162447</td>\n",
       "      <td>-0.162447</td>\n",
       "      <td>-0.162447</td>\n",
       "      <td>-0.162447</td>\n",
       "      <td>-0.162447</td>\n",
       "      <td>0.0</td>\n",
       "      <td>0.0</td>\n",
       "      <td>0.0</td>\n",
       "      <td>37.026606</td>\n",
       "    </tr>\n",
       "  </tbody>\n",
       "</table>\n",
       "<p>274 rows × 16 columns</p>\n",
       "</div>"
      ],
      "text/plain": [
       "            ds      trend  yhat_lower  yhat_upper  trend_lower  trend_upper  \\\n",
       "0   2020-03-28  24.404899  -56.352511   95.004859    24.404899    24.404899   \n",
       "1   2020-03-29  24.471811  -48.954203  100.937018    24.471811    24.471811   \n",
       "2   2020-03-30  24.538722  -50.000289   99.469348    24.538722    24.538722   \n",
       "3   2020-03-31  24.605634  -51.743560  100.721485    24.605634    24.605634   \n",
       "4   2020-04-01  24.672546  -46.946658   95.791669    24.672546    24.672546   \n",
       "..         ...        ...         ...         ...          ...          ...   \n",
       "269 2020-12-22  37.125752  -38.007855  106.556304    30.119334    44.143215   \n",
       "270 2020-12-23  37.141577  -34.892943  115.535516    29.692426    44.475405   \n",
       "271 2020-12-24  37.157403  -36.816712  110.224120    29.270103    44.966011   \n",
       "272 2020-12-25  37.173228  -32.874898  110.435840    28.939986    45.555873   \n",
       "273 2020-12-26  37.189054  -41.447557  108.788703    28.459789    46.064700   \n",
       "\n",
       "     additive_terms  additive_terms_lower  additive_terms_upper    weekly  \\\n",
       "0         -0.162447             -0.162447             -0.162447 -0.162447   \n",
       "1         -0.092821             -0.092821             -0.092821 -0.092821   \n",
       "2         -0.074264             -0.074264             -0.074264 -0.074264   \n",
       "3          0.347240              0.347240              0.347240  0.347240   \n",
       "4         -0.442683             -0.442683             -0.442683 -0.442683   \n",
       "..              ...                   ...                   ...       ...   \n",
       "269        0.347240              0.347240              0.347240  0.347240   \n",
       "270       -0.442683             -0.442683             -0.442683 -0.442683   \n",
       "271        0.704739              0.704739              0.704739  0.704739   \n",
       "272       -0.279763             -0.279763             -0.279763 -0.279763   \n",
       "273       -0.162447             -0.162447             -0.162447 -0.162447   \n",
       "\n",
       "     weekly_lower  weekly_upper  multiplicative_terms  \\\n",
       "0       -0.162447     -0.162447                   0.0   \n",
       "1       -0.092821     -0.092821                   0.0   \n",
       "2       -0.074264     -0.074264                   0.0   \n",
       "3        0.347240      0.347240                   0.0   \n",
       "4       -0.442683     -0.442683                   0.0   \n",
       "..            ...           ...                   ...   \n",
       "269      0.347240      0.347240                   0.0   \n",
       "270     -0.442683     -0.442683                   0.0   \n",
       "271      0.704739      0.704739                   0.0   \n",
       "272     -0.279763     -0.279763                   0.0   \n",
       "273     -0.162447     -0.162447                   0.0   \n",
       "\n",
       "     multiplicative_terms_lower  multiplicative_terms_upper       yhat  \n",
       "0                           0.0                         0.0  24.242452  \n",
       "1                           0.0                         0.0  24.378989  \n",
       "2                           0.0                         0.0  24.464458  \n",
       "3                           0.0                         0.0  24.952874  \n",
       "4                           0.0                         0.0  24.229863  \n",
       "..                          ...                         ...        ...  \n",
       "269                         0.0                         0.0  37.472992  \n",
       "270                         0.0                         0.0  36.698894  \n",
       "271                         0.0                         0.0  37.862142  \n",
       "272                         0.0                         0.0  36.893465  \n",
       "273                         0.0                         0.0  37.026606  \n",
       "\n",
       "[274 rows x 16 columns]"
      ]
     },
     "execution_count": 29,
     "metadata": {},
     "output_type": "execute_result"
    }
   ],
   "source": [
    "df2_pronostico\n"
   ]
  },
  {
   "cell_type": "code",
   "execution_count": 30,
   "metadata": {},
   "outputs": [],
   "source": [
    "df2_pronostico_final = df2_pronostico[['ds','trend']]"
   ]
  },
  {
   "cell_type": "code",
   "execution_count": 31,
   "metadata": {},
   "outputs": [],
   "source": [
    "dfpronostico=dfpronostico.set_index('ds')\n",
    "df2_pronostico_final=df2_pronostico_final.set_index('ds')"
   ]
  },
  {
   "cell_type": "code",
   "execution_count": 32,
   "metadata": {},
   "outputs": [],
   "source": [
    "dfpronostico=dfpronostico.resample('d').mean()\n",
    "df2_pronostico_final=df2_pronostico_final.resample('d').mean()"
   ]
  },
  {
   "cell_type": "code",
   "execution_count": 33,
   "metadata": {},
   "outputs": [],
   "source": [
    "mergedDf = dfpronostico.merge(df2_pronostico_final, how='outer', left_index=True, right_index=True)"
   ]
  },
  {
   "cell_type": "code",
   "execution_count": 34,
   "metadata": {},
   "outputs": [
    {
     "data": {
      "text/plain": [
       "<seaborn.axisgrid.FacetGrid at 0x2069c02e3a0>"
      ]
     },
     "execution_count": 34,
     "metadata": {},
     "output_type": "execute_result"
    },
    {
     "data": {
      "image/png": "[encoded data removed]",
      "text/plain": [
       "<Figure size 1142.62x360 with 1 Axes>"
      ]
     },
     "metadata": {
      "needs_background": "light"
     },
     "output_type": "display_data"
    }
   ],
   "source": [
    "sns.relplot(data=mergedDf, kind=\"line\", height=5, aspect=3)"
   ]
  },
  {
   "cell_type": "code",
   "execution_count": 35,
   "metadata": {},
   "outputs": [
    {
     "data": {
      "text/html": [
       "<div>\n",
       "<style scoped>\n",
       "    .dataframe tbody tr th:only-of-type {\n",
       "        vertical-align: middle;\n",
       "    }\n",
       "\n",
       "    .dataframe tbody tr th {\n",
       "        vertical-align: top;\n",
       "    }\n",
       "\n",
       "    .dataframe thead th {\n",
       "        text-align: right;\n",
       "    }\n",
       "</style>\n",
       "<table border=\"1\" class=\"dataframe\">\n",
       "  <thead>\n",
       "    <tr style=\"text-align: right;\">\n",
       "      <th></th>\n",
       "      <th>y</th>\n",
       "      <th>trend</th>\n",
       "    </tr>\n",
       "    <tr>\n",
       "      <th>ds</th>\n",
       "      <th></th>\n",
       "      <th></th>\n",
       "    </tr>\n",
       "  </thead>\n",
       "  <tbody>\n",
       "    <tr>\n",
       "      <th>2020-03-28</th>\n",
       "      <td>24.980551</td>\n",
       "      <td>24.404899</td>\n",
       "    </tr>\n",
       "    <tr>\n",
       "      <th>2020-03-29</th>\n",
       "      <td>24.997317</td>\n",
       "      <td>24.471811</td>\n",
       "    </tr>\n",
       "    <tr>\n",
       "      <th>2020-03-30</th>\n",
       "      <td>23.081792</td>\n",
       "      <td>24.538722</td>\n",
       "    </tr>\n",
       "    <tr>\n",
       "      <th>2020-03-31</th>\n",
       "      <td>25.376130</td>\n",
       "      <td>24.605634</td>\n",
       "    </tr>\n",
       "    <tr>\n",
       "      <th>2020-04-01</th>\n",
       "      <td>25.910042</td>\n",
       "      <td>24.672546</td>\n",
       "    </tr>\n",
       "    <tr>\n",
       "      <th>...</th>\n",
       "      <td>...</td>\n",
       "      <td>...</td>\n",
       "    </tr>\n",
       "    <tr>\n",
       "      <th>2020-12-22</th>\n",
       "      <td>NaN</td>\n",
       "      <td>37.125752</td>\n",
       "    </tr>\n",
       "    <tr>\n",
       "      <th>2020-12-23</th>\n",
       "      <td>NaN</td>\n",
       "      <td>37.141577</td>\n",
       "    </tr>\n",
       "    <tr>\n",
       "      <th>2020-12-24</th>\n",
       "      <td>NaN</td>\n",
       "      <td>37.157403</td>\n",
       "    </tr>\n",
       "    <tr>\n",
       "      <th>2020-12-25</th>\n",
       "      <td>NaN</td>\n",
       "      <td>37.173228</td>\n",
       "    </tr>\n",
       "    <tr>\n",
       "      <th>2020-12-26</th>\n",
       "      <td>NaN</td>\n",
       "      <td>37.189054</td>\n",
       "    </tr>\n",
       "  </tbody>\n",
       "</table>\n",
       "<p>274 rows × 2 columns</p>\n",
       "</div>"
      ],
      "text/plain": [
       "                    y      trend\n",
       "ds                              \n",
       "2020-03-28  24.980551  24.404899\n",
       "2020-03-29  24.997317  24.471811\n",
       "2020-03-30  23.081792  24.538722\n",
       "2020-03-31  25.376130  24.605634\n",
       "2020-04-01  25.910042  24.672546\n",
       "...               ...        ...\n",
       "2020-12-22        NaN  37.125752\n",
       "2020-12-23        NaN  37.141577\n",
       "2020-12-24        NaN  37.157403\n",
       "2020-12-25        NaN  37.173228\n",
       "2020-12-26        NaN  37.189054\n",
       "\n",
       "[274 rows x 2 columns]"
      ]
     },
     "execution_count": 35,
     "metadata": {},
     "output_type": "execute_result"
    }
   ],
   "source": [
    "mergedDf"
   ]
  },
  {
   "cell_type": "code",
   "execution_count": null,
   "metadata": {},
   "outputs": [],
   "source": []
  }
 ],
 "metadata": {
  "kernelspec": {
   "display_name": "Python 3",
   "language": "python",
   "name": "python3"
  },
  "language_info": {
   "codemirror_mode": {
    "name": "ipython",
    "version": 3
   },
   "file_extension": ".py",
   "mimetype": "text/x-python",
   "name": "python",
   "nbconvert_exporter": "python",
   "pygments_lexer": "ipython3",
   "version": "3.8.5"
  },
  "toc": {
   "base_numbering": 1,
   "nav_menu": {},
   "number_sections": true,
   "sideBar": true,
   "skip_h1_title": false,
   "title_cell": "Table of Contents",
   "title_sidebar": "Contents",
   "toc_cell": false,
   "toc_position": {},
   "toc_section_display": true,
   "toc_window_display": false
  },
  "varInspector": {
   "cols": {
    "lenName": 16,
    "lenType": 16,
    "lenVar": 40
   },
   "kernels_config": {
    "python": {
     "delete_cmd_postfix": "",
     "delete_cmd_prefix": "del ",
     "library": "var_list.py",
     "varRefreshCmd": "print(var_dic_list())"
    },
    "r": {
     "delete_cmd_postfix": ") ",
     "delete_cmd_prefix": "rm(",
     "library": "var_list.r",
     "varRefreshCmd": "cat(var_dic_list()) "
    }
   },
   "types_to_exclude": [
    "module",
    "function",
    "builtin_function_or_method",
    "instance",
    "_Feature"
   ],
   "window_display": false
  }
 },
 "nbformat": 4,
 "nbformat_minor": 4
}
